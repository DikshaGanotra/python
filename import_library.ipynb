{
  "nbformat": 4,
  "nbformat_minor": 0,
  "metadata": {
    "colab": {
      "name": "import library.ipynb",
      "provenance": [],
      "authorship_tag": "ABX9TyO27Jv9Q3l24+1douhxcblq",
      "include_colab_link": true
    },
    "kernelspec": {
      "name": "python3",
      "display_name": "Python 3"
    },
    "language_info": {
      "name": "python"
    }
  },
  "cells": [
    {
      "cell_type": "markdown",
      "metadata": {
        "id": "view-in-github",
        "colab_type": "text"
      },
      "source": [
        "<a href=\"https://colab.research.google.com/github/DikshaGanotra/python/blob/main/import_library.ipynb\" target=\"_parent\"><img src=\"https://colab.research.google.com/assets/colab-badge.svg\" alt=\"Open In Colab\"/></a>"
      ]
    },
    {
      "cell_type": "code",
      "execution_count": null,
      "metadata": {
        "colab": {
          "base_uri": "https://localhost:8080/"
        },
        "id": "sCeSqO_TqB54",
        "outputId": "102fad32-12ea-4e8d-dac0-868e46150f13"
      },
      "outputs": [
        {
          "output_type": "stream",
          "name": "stdout",
          "text": [
            "      x\n",
            "0    77\n",
            "1    21\n",
            "2    22\n",
            "3    20\n",
            "4    36\n",
            "..   ..\n",
            "295  71\n",
            "296  46\n",
            "297  55\n",
            "298  62\n",
            "299  47\n",
            "\n",
            "[300 rows x 1 columns]\n"
          ]
        }
      ],
      "source": [
        "import pandas as pd\n",
        "df=pd.read_csv('/content/test.csv',usecols=['x'])\n",
        "print(df)"
      ]
    },
    {
      "cell_type": "code",
      "source": [
        ""
      ],
      "metadata": {
        "id": "uhBa8f10rJCv"
      },
      "execution_count": null,
      "outputs": []
    }
  ]
}