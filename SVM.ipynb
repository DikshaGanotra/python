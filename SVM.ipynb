{
  "nbformat": 4,
  "nbformat_minor": 0,
  "metadata": {
    "colab": {
      "name": "SVM.ipynb",
      "provenance": [],
      "authorship_tag": "ABX9TyPibN01sWtWMx4Omstirpzk",
      "include_colab_link": true
    },
    "kernelspec": {
      "name": "python3",
      "display_name": "Python 3"
    },
    "language_info": {
      "name": "python"
    }
  },
  "cells": [
    {
      "cell_type": "markdown",
      "metadata": {
        "id": "view-in-github",
        "colab_type": "text"
      },
      "source": [
        "<a href=\"https://colab.research.google.com/github/DikshaGanotra/python/blob/main/SVM.ipynb\" target=\"_parent\"><img src=\"https://colab.research.google.com/assets/colab-badge.svg\" alt=\"Open In Colab\"/></a>"
      ]
    },
    {
      "cell_type": "markdown",
      "source": [
        "**IMAGE PROCESSING USING SUPPORT VECTOR MACHINE IN PYTHON** "
      ],
      "metadata": {
        "id": "OpKf4d25IoB7"
      }
    },
    {
      "cell_type": "code",
      "source": [
        "import numpy as np\n",
        "import pandas as pd\n",
        "import matplotlib.pyplot as plt\n",
        "from sklearn.model_selection import train_test_split\n",
        "from sklearn.metrics import accuracy_score"
      ],
      "metadata": {
        "id": "X_rq-j9RQZ_H"
      },
      "execution_count": 6,
      "outputs": []
    },
    {
      "cell_type": "code",
      "source": [
        "cell_df = pd.read_csv('/content/cell_samples.csv')\n",
        "cell_df.head()\n",
        "cell_df.size\n",
        "cell_df.shape\n",
        "cell_df.count()\n",
        "cell_df['Class'].value_counts()"
      ],
      "metadata": {
        "colab": {
          "base_uri": "https://localhost:8080/"
        },
        "id": "o0xX_W3vwajo",
        "outputId": "a8c97c26-2cd0-45ed-f692-5a5c85998fdf"
      },
      "execution_count": 17,
      "outputs": [
        {
          "output_type": "execute_result",
          "data": {
            "text/plain": [
              "2    458\n",
              "4    241\n",
              "Name: Class, dtype: int64"
            ]
          },
          "metadata": {},
          "execution_count": 17
        }
      ]
    },
    {
      "cell_type": "markdown",
      "source": [
        "## DISTRIBUTION OF **CLASSES**: "
      ],
      "metadata": {
        "id": "Iq3jjFMcyXux"
      }
    },
    {
      "cell_type": "code",
      "source": [
        "benign_df = cell_df[cell_df['Class']==2][0:200]\n",
        "malignant_df = cell_df[cell_df['Class']==4][0:200]\n",
        "\n",
        "axes = benign_df.plot(kind='scatter',x='Clump',y='UnifSize',color='blue',label='Benign')\n",
        "malignant_df.plot(kind='scatter',x='Clump',y='UnifSize',color='red',label='Malignant',ax=axes)"
      ],
      "metadata": {
        "colab": {
          "base_uri": "https://localhost:8080/",
          "height": 296
        },
        "id": "e-VQpniyyP7X",
        "outputId": "1ea2b837-34c1-413e-94d6-7c2a2dac863f"
      },
      "execution_count": 26,
      "outputs": [
        {
          "output_type": "execute_result",
          "data": {
            "text/plain": [
              "<matplotlib.axes._subplots.AxesSubplot at 0x7f09fc92c810>"
            ]
          },
          "metadata": {},
          "execution_count": 26
        },
        {
          "output_type": "display_data",
          "data": {
            "text/plain": [
              "<Figure size 432x288 with 1 Axes>"
            ],
            "image/png": "[encoded data removed]"
          },
          "metadata": {
            "needs_background": "light"
          }
        }
      ]
    },
    {
      "cell_type": "markdown",
      "source": [
        "identifying  unwanted rows \\columns\n"
      ],
      "metadata": {
        "id": "Ihk4avwHzbCG"
      }
    },
    {
      "cell_type": "code",
      "source": [
        "cell_df.dtypes\n",
        "cell_df = cell_df[pd.to_numeric(cell_df['BareNuc'],errors='coerce').notnull()]\n",
        "cell_df['BareNuc']=cell_df['BareNuc'].astype('int')\n",
        "cell_df.dtypes"
      ],
      "metadata": {
        "colab": {
          "base_uri": "https://localhost:8080/"
        },
        "id": "_LOucfN1zqpU",
        "outputId": "6fafd5bd-6ef4-4e06-c549-2d465fbe6312"
      },
      "execution_count": 36,
      "outputs": [
        {
          "output_type": "execute_result",
          "data": {
            "text/plain": [
              "ID             int64\n",
              "Clump          int64\n",
              "UnifSize       int64\n",
              "UnifShape      int64\n",
              "MargAdh        int64\n",
              "SingEpiSize    int64\n",
              "BareNuc        int64\n",
              "BlandChrom     int64\n",
              "NormNucl       int64\n",
              "Mit            int64\n",
              "Class          int64\n",
              "dtype: object"
            ]
          },
          "metadata": {},
          "execution_count": 36
        }
      ]
    },
    {
      "cell_type": "code",
      "source": [
        "##removing unwanted columns\n",
        "\n",
        "cell_df.columns\n",
        "\n",
        "feature_df=cell_df[['Clump','UnifSize','MargAdh','SingEpiSize','BareNuc','BlandChrom','NormNucl','Mit']]\n",
        "##picked 9 columns\n",
        "#x denotes independent variable\n",
        "X = np.asarray(feature_df)\n",
        "#y is a dependent variable\n",
        "y = np.asarray(cell_df['Class'])\n",
        "\n"
      ],
      "metadata": {
        "id": "Ft6xLSQE1mFj"
      },
      "execution_count": 49,
      "outputs": []
    },
    {
      "cell_type": "markdown",
      "source": [
        "**dividing the data into training \\testing**"
      ],
      "metadata": {
        "id": "9oa335Pt87ad"
      }
    },
    {
      "cell_type": "code",
      "source": [
        "from sklearn.model_selection import train_test_split\n",
        "X_train ,  X_test , y_train, y_test =train_test_split(X, y, test_size=0.2, random_state=4)\n",
        "X_train.shape\n",
        "y_train.shape\n"
      ],
      "metadata": {
        "colab": {
          "base_uri": "https://localhost:8080/"
        },
        "id": "2pnQc1ey7J-2",
        "outputId": "cc14536f-f0b6-4b1c-a3df-9811382d1ad6"
      },
      "execution_count": 60,
      "outputs": [
        {
          "output_type": "execute_result",
          "data": {
            "text/plain": [
              "(546,)"
            ]
          },
          "metadata": {},
          "execution_count": 60
        }
      ]
    },
    {
      "cell_type": "markdown",
      "source": [
        "Modelling "
      ],
      "metadata": {
        "id": "R0qUfLTo_GAE"
      }
    },
    {
      "cell_type": "code",
      "source": [
        "from sklearn import svm\n",
        "classifier = svm.SVC(kernel='linear',gamma='auto',C=2)\n",
        "classifier.fit(X_train,y_train)\n",
        "y_predict= classifier.predict(X_test)\n"
      ],
      "metadata": {
        "id": "OfYkWL9o-TJg"
      },
      "execution_count": 65,
      "outputs": []
    },
    {
      "cell_type": "markdown",
      "source": [
        "**RESULT**"
      ],
      "metadata": {
        "id": "qUzogUvABA5f"
      }
    },
    {
      "cell_type": "code",
      "source": [
        "from sklearn.metrics import classification_report\n",
        "print(classification_report(y_test,y_predict))"
      ],
      "metadata": {
        "colab": {
          "base_uri": "https://localhost:8080/"
        },
        "id": "YwGGvNtU_MpM",
        "outputId": "0e0e81ef-416e-4756-a677-080b2c2a62d1"
      },
      "execution_count": 66,
      "outputs": [
        {
          "output_type": "stream",
          "name": "stdout",
          "text": [
            "              precision    recall  f1-score   support\n",
            "\n",
            "           2       1.00      0.96      0.98        90\n",
            "           4       0.92      1.00      0.96        47\n",
            "\n",
            "    accuracy                           0.97       137\n",
            "   macro avg       0.96      0.98      0.97       137\n",
            "weighted avg       0.97      0.97      0.97       137\n",
            "\n"
          ]
        }
      ]
    },
    {
      "cell_type": "code",
      "source": [
        ""
      ],
      "metadata": {
        "id": "TA6f66arBaeH"
      },
      "execution_count": null,
      "outputs": []
    }
  ]
}